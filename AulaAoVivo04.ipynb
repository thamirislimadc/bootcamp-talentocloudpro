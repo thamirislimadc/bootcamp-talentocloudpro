{
  "nbformat": 4,
  "nbformat_minor": 0,
  "metadata": {
    "colab": {
      "provenance": [],
      "authorship_tag": "ABX9TyOfYbu9Q7C5AoPACooxFuR5",
      "include_colab_link": true
    },
    "kernelspec": {
      "name": "python3",
      "display_name": "Python 3"
    },
    "language_info": {
      "name": "python"
    }
  },
  "cells": [
    {
      "cell_type": "markdown",
      "metadata": {
        "id": "view-in-github",
        "colab_type": "text"
      },
      "source": [
        "<a href=\"https://colab.research.google.com/github/thamirislimadc/talentocloudpro/blob/main/AulaAoVivo04.ipynb\" target=\"_parent\"><img src=\"https://colab.research.google.com/assets/colab-badge.svg\" alt=\"Open In Colab\"/></a>"
      ]
    },
    {
      "cell_type": "markdown",
      "source": [
        "# Desafio: calcular o valor de um almoço no restaurante"
      ],
      "metadata": {
        "id": "4jixSNKNpQFI"
      }
    },
    {
      "cell_type": "code",
      "execution_count": 4,
      "metadata": {
        "colab": {
          "base_uri": "https://localhost:8080/"
        },
        "id": "P8gJ2jZPH5Hz",
        "outputId": "42e1ec20-eef0-41c4-fcb1-199dcc26eeee"
      },
      "outputs": [
        {
          "output_type": "stream",
          "name": "stdout",
          "text": [
            "Meu almoço foi Tropeiro , a bebida que pedi foi Sprite Zero  e a sobremesa escolhida foi  Pudim\n",
            "Meu orçamento era  80.0\n",
            "O valor total foi  62.9\n",
            "E o meu troco foi  17.1\n"
          ]
        }
      ],
      "source": [
        "almocoFavorito = \"Tropeiro\"\n",
        "bebidaFavorita = \"Sprite Zero\"\n",
        "sobremesaFavorita = \"Pudim\"\n",
        "almocoPreco = 29.90\n",
        "bebidaPreco = 8.00\n",
        "sobremesaPreco = 25.00\n",
        "orcamento = 80.00\n",
        "\n",
        "total = almocoPreco + bebidaPreco + sobremesaPreco\n",
        "\n",
        "print(\"Meu almoço foi\", almocoFavorito, \", a bebida que pedi foi\", bebidaFavorita, \" e a sobremesa escolhida foi \" , sobremesaFavorita)\n",
        "print(\"Meu orçamento era \" , orcamento)\n",
        "print(\"O valor total foi \" , total)\n",
        "print(\"E o meu troco foi \", orcamento - total)\n"
      ]
    }
  ]
}