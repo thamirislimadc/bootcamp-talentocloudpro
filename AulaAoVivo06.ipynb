{
  "nbformat": 4,
  "nbformat_minor": 0,
  "metadata": {
    "colab": {
      "provenance": [],
      "authorship_tag": "ABX9TyPFjDiEY8dQO7VTpC1UAo4X",
      "include_colab_link": true
    },
    "kernelspec": {
      "name": "python3",
      "display_name": "Python 3"
    },
    "language_info": {
      "name": "python"
    }
  },
  "cells": [
    {
      "cell_type": "markdown",
      "metadata": {
        "id": "view-in-github",
        "colab_type": "text"
      },
      "source": [
        "<a href=\"https://colab.research.google.com/github/thamirislimadc/talentocloudpro/blob/main/AulaAoVivo06.ipynb\" target=\"_parent\"><img src=\"https://colab.research.google.com/assets/colab-badge.svg\" alt=\"Open In Colab\"/></a>"
      ]
    },
    {
      "cell_type": "markdown",
      "source": [
        "#Tratamento de erros"
      ],
      "metadata": {
        "id": "-iZnUKQGim3c"
      }
    },
    {
      "cell_type": "code",
      "execution_count": 20,
      "metadata": {
        "colab": {
          "base_uri": "https://localhost:8080/"
        },
        "id": "xBV2IctsikmJ",
        "outputId": "19c861c6-f237-476a-c904-6c0ab2f74171"
      },
      "outputs": [
        {
          "output_type": "stream",
          "name": "stdout",
          "text": [
            "Escreva um número menor que 100\n",
            "0\n",
            "O número não pode ser menor que 0. Digite outro número inteiro\n",
            "-6\n",
            "O número não pode ser menor que 0. Digite outro número inteiro\n",
            "6\n",
            "Boa! Você escolheu o número: 6\n"
          ]
        }
      ],
      "source": [
        "def mostrarNumero():\n",
        "  print(\"Escreva um número menor que 100\")\n",
        "  numero_valido = False\n",
        "\n",
        "  while(numero_valido == False):\n",
        "    try:\n",
        "      num = int(input())\n",
        "      if(num > 100):\n",
        "        print(\"O número precisa ser menor que 100\")\n",
        "      elif(num <= 0):\n",
        "        print(\"O número não pode ser menor que 0. Digite outro número inteiro\")\n",
        "      elif(num % 2 != 0):\n",
        "        print(\"O numero precisa ser par!\")\n",
        "      elif(num % 3 != 0):\n",
        "        print(\"O número precisa ser divisível por 3\")\n",
        "      else:\n",
        "        print(\"Boa! Você escolheu o número: \" + str(num))\n",
        "        numero_valido = True\n",
        "    except:\n",
        "      print(\"Precisa digitar um número inteiro!\")\n",
        "mostrarNumero()"
      ]
    }
  ]
}