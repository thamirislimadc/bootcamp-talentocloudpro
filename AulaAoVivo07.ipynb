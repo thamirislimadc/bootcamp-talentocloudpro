{
  "nbformat": 4,
  "nbformat_minor": 0,
  "metadata": {
    "colab": {
      "provenance": [],
      "authorship_tag": "ABX9TyOBaDwAw4HJ3OG/WvfJcXrt",
      "include_colab_link": true
    },
    "kernelspec": {
      "name": "python3",
      "display_name": "Python 3"
    },
    "language_info": {
      "name": "python"
    }
  },
  "cells": [
    {
      "cell_type": "markdown",
      "metadata": {
        "id": "view-in-github",
        "colab_type": "text"
      },
      "source": [
        "<a href=\"https://colab.research.google.com/github/thamirislimadc/talentocloudpro/blob/main/AulaAoVivo07.ipynb\" target=\"_parent\"><img src=\"https://colab.research.google.com/assets/colab-badge.svg\" alt=\"Open In Colab\"/></a>"
      ]
    },
    {
      "cell_type": "markdown",
      "source": [
        "#Arrays"
      ],
      "metadata": {
        "id": "Pqbyxo16Rob_"
      }
    },
    {
      "cell_type": "code",
      "execution_count": null,
      "metadata": {
        "colab": {
          "base_uri": "https://localhost:8080/"
        },
        "id": "t6VqCZbFRm_M",
        "outputId": "35ba15a0-e39d-4ca8-8b4c-2bea22cac820"
      },
      "outputs": [
        {
          "output_type": "stream",
          "name": "stdout",
          "text": [
            "Achamos o nome: Karen\n"
          ]
        }
      ],
      "source": [
        "def acharElemento(elem, arr):\n",
        "  achou = False\n",
        "\n",
        "  for i in range(len(arr)):\n",
        "    if arr[i] == elem:\n",
        "      achou = True\n",
        "\n",
        "  if(achou == False):\n",
        "    print(\"Não achamos o nome: \" + elem)\n",
        "  else:\n",
        "    print(\"Achamos o nome: \" + elem)\n",
        "\n",
        "nomes = [\"Rafael\", \"Arthur\", \"Karen\", \"Roberta\"]\n",
        "\n",
        "acharElemento(\"Karen\", nomes)"
      ]
    },
    {
      "cell_type": "markdown",
      "source": [
        "#Desafio\n",
        "\n",
        "O dono de uma loja entra em contato com você com a seguinte situação:\n",
        "\n",
        "“Boa tarde,\n",
        "Estamos modernizando nossa loja e precisamos de um novo sistema de controle de estoque. Geralmente anotamos todos os produtos que temos disponíveis, e quando um dos produtos acaba, substituímos ele por algum outro produto.\n",
        "Ouvi dizer que vocês podem fazer um sistema para a gente que mostra a lista com todos nossos produtos, e nos deixa alterar um produto por outro.\n",
        "Além disso, estamos pensando em ampliar nosso armazém, para ter mais espaço para mais produtos. Então, se puderem fazer com que o sistema nos permita adicionar mais produtos à lista, e qualquer outra coisa que acharem necessário, seria muito bom.\n",
        "\n",
        "Desde já, agradeço!”"
      ],
      "metadata": {
        "id": "4ez9e-6agLgT"
      }
    },
    {
      "cell_type": "code",
      "source": [
        "print(\"Olá. Bem-vindo ao sistema do Depósito Casabem!\")\n",
        "\n",
        "def mostrarProdutos(produtos):\n",
        "    print(\"Lista de produtos:\")\n",
        "    for i, produto in enumerate(produtos):\n",
        "        print(f\"{i}: {produto}\")\n",
        "\n",
        "def substituirProduto(produtos):\n",
        "    mostrarProdutos(produtos)\n",
        "    try:\n",
        "        indice = int(input(\"Digite o número do produto que deseja substituir: \"))\n",
        "        if 0 <= indice < len(produtos):\n",
        "            novoProduto = input(\"Digite o nome do novo produto: \")\n",
        "            produtos[indice] = novoProduto\n",
        "            print(\"Produto substituído com sucesso.\")\n",
        "        else:\n",
        "            print(\"Número inválido.\")\n",
        "    except ValueError:\n",
        "        print(\"Entrada inválida. Por favor, insira um número.\")\n",
        "\n",
        "def adicionarProduto(produtos):\n",
        "    novoProduto = input(\"Digite o nome do novo produto: \")\n",
        "    produtos.append(novoProduto)\n",
        "    print(\"Produto adicionado com sucesso.\")\n",
        "\n",
        "def sistemaControleEstoque():\n",
        "    produtos = [\"Cimento\", \"Tijolo\", \"Bloco\", \"Azulejo\", \"Areia\", \"Brita\",\n",
        "                \"Colher de pedreiro\"]\n",
        "\n",
        "    while True:\n",
        "        print(\"\\nControle de Estoque - Depósito Casabem:\")\n",
        "        print(\"\\nDigite '1' para mostrar a lista de produtos\")\n",
        "        print(\"Digite '2' para substituir um produto\")\n",
        "        print(\"Digite '3' para adicionar um novo produto\")\n",
        "        print(\"Digite '4' para fechar o programa\")\n",
        "        opcao = input(\"\\nEscolha uma opção: \")\n",
        "\n",
        "        if opcao == '1':\n",
        "            mostrarProdutos(produtos)\n",
        "        elif opcao == '2':\n",
        "            substituirProduto(produtos)\n",
        "        elif opcao == '3':\n",
        "            adicionarProduto(produtos)\n",
        "        elif opcao == '4':\n",
        "            print(\"\\nPrograma fechado.\")\n",
        "            break\n",
        "        else:\n",
        "            print(\"Opção inválida. Escolha outra opção.\")\n",
        "\n",
        "# Executa o sistema de controle de estoque\n",
        "sistemaControleEstoque()"
      ],
      "metadata": {
        "colab": {
          "base_uri": "https://localhost:8080/"
        },
        "id": "rNSkGxgtgS-0",
        "outputId": "7cacb8f8-93e4-4d21-bf14-743d7f21a912"
      },
      "execution_count": null,
      "outputs": [
        {
          "output_type": "stream",
          "name": "stdout",
          "text": [
            "Olá. Bem-vindo ao sistema do Depósito Casabem!\n",
            "\n",
            "Controle de Estoque - Depósito Casabem:\n",
            "\n",
            "Digite '1' para mostrar a lista de produtos\n",
            "Digite '2' para substituir um produto\n",
            "Digite '3' para adicionar um novo produto\n",
            "Digite '4' para fechar o programa\n",
            "\n",
            "Escolha uma opção: 1\n",
            "Lista de produtos:\n",
            "0: Cimento\n",
            "1: Tijolo\n",
            "2: Bloco\n",
            "3: Azulejo\n",
            "4: Areia\n",
            "5: Brita\n",
            "6: Colher de pedreiro\n",
            "\n",
            "Controle de Estoque - Depósito Casabem:\n",
            "\n",
            "Digite '1' para mostrar a lista de produtos\n",
            "Digite '2' para substituir um produto\n",
            "Digite '3' para adicionar um novo produto\n",
            "Digite '4' para fechar o programa\n",
            "\n",
            "Escolha uma opção: 2\n",
            "Lista de produtos:\n",
            "0: Cimento\n",
            "1: Tijolo\n",
            "2: Bloco\n",
            "3: Azulejo\n",
            "4: Areia\n",
            "5: Brita\n",
            "6: Colher de pedreiro\n",
            "Digite o número do produto que deseja substituir: 3\n",
            "Digite o nome do novo produto: Porcelanato\n",
            "Produto substituído com sucesso.\n",
            "\n",
            "Controle de Estoque - Depósito Casabem:\n",
            "\n",
            "Digite '1' para mostrar a lista de produtos\n",
            "Digite '2' para substituir um produto\n",
            "Digite '3' para adicionar um novo produto\n",
            "Digite '4' para fechar o programa\n",
            "\n",
            "Escolha uma opção: 1\n",
            "Lista de produtos:\n",
            "0: Cimento\n",
            "1: Tijolo\n",
            "2: Bloco\n",
            "3: Porcelanato\n",
            "4: Areia\n",
            "5: Brita\n",
            "6: Colher de pedreiro\n",
            "\n",
            "Controle de Estoque - Depósito Casabem:\n",
            "\n",
            "Digite '1' para mostrar a lista de produtos\n",
            "Digite '2' para substituir um produto\n",
            "Digite '3' para adicionar um novo produto\n",
            "Digite '4' para fechar o programa\n",
            "\n",
            "Escolha uma opção: 4\n",
            "\n",
            "Programa fechado.\n"
          ]
        }
      ]
    },
    {
      "cell_type": "markdown",
      "source": [
        "#Correção em aula"
      ],
      "metadata": {
        "id": "V74uPs_C0QX7"
      }
    },
    {
      "cell_type": "code",
      "source": [
        "def manipularEstoque(arr):\n",
        "  fechar = False\n",
        "\n",
        "  while(fechar == False):\n",
        "    print(\"O que deseja fazer? Digite o número:\")\n",
        "    print(\"1. Ver os produtos em estoque\")\n",
        "    print(\"2. Alterar um produto\")\n",
        "    print(\"3. Adicionar um produto\")\n",
        "    print(\"4. Fechar o sistema\")\n",
        "    acao = input()\n",
        "\n",
        "    if(acao == \"1\"):\n",
        "      print(\"Produtos em estoque: \")\n",
        "      for i in range(len(arr)):\n",
        "        print(str(i) + \" - \" + arr[i])\n",
        "\n",
        "    elif(acao == \"2\"):\n",
        "      print(\"Qual é o indice do produto que você desja alterar?\")\n",
        "      indice = int(input())\n",
        "      print(\"Qual é o nome do produto?\")\n",
        "      novoProduto = input()\n",
        "      arr[indice] = novoProduto\n",
        "      print(\"Produto '\" + novoProduto + \"' adicionado com sucesso!\")\n",
        "\n",
        "    elif(acao == \"3\"):\n",
        "      print(\"Qual produto deseja adicionar?\")\n",
        "      novoProduto = input()\n",
        "      arr.append(novoProduto)\n",
        "      print(\"Produto '\" + novoProduto + \"' adicionado com sucesso!\")\n",
        "\n",
        "    elif(acao == \"4\"):\n",
        "      print(\"Fechando o sistema...\")\n",
        "      fechar = True\n",
        "\n",
        "    else:\n",
        "      print(\"Por favor informe um código válido!\")\n",
        "\n",
        "produtos = [\"leite\", \"pão\", \"manteiga\", \"queijo\"]\n",
        "manipularEstoque(produtos)"
      ],
      "metadata": {
        "colab": {
          "base_uri": "https://localhost:8080/"
        },
        "id": "exlhZUYm0TgP",
        "outputId": "3a6d7a77-56b9-4b54-e536-9f540a48e23e"
      },
      "execution_count": 1,
      "outputs": [
        {
          "output_type": "stream",
          "name": "stdout",
          "text": [
            "O que deseja fazer? Digite o número:\n",
            "1. Ver os produtos em estoque\n",
            "2. Alterar um produto\n",
            "3. Adicionar um produto\n",
            "4. Fechar o sistema\n",
            "1\n",
            "Produtos em estoque: \n",
            "0 - leite\n",
            "1 - pão\n",
            "2 - manteiga\n",
            "3 - queijo\n",
            "O que deseja fazer? Digite o número:\n",
            "1. Ver os produtos em estoque\n",
            "2. Alterar um produto\n",
            "3. Adicionar um produto\n",
            "4. Fechar o sistema\n",
            "2\n",
            "Qual é o indice do produto que você desja alterar?\n",
            "2\n",
            "Qual é o nome do produto?\n",
            "ovo\n",
            "Produto 'ovo' adicionado com sucesso!\n",
            "O que deseja fazer? Digite o número:\n",
            "1. Ver os produtos em estoque\n",
            "2. Alterar um produto\n",
            "3. Adicionar um produto\n",
            "4. Fechar o sistema\n",
            "1\n",
            "Produtos em estoque: \n",
            "0 - leite\n",
            "1 - pão\n",
            "2 - ovo\n",
            "3 - queijo\n",
            "O que deseja fazer? Digite o número:\n",
            "1. Ver os produtos em estoque\n",
            "2. Alterar um produto\n",
            "3. Adicionar um produto\n",
            "4. Fechar o sistema\n",
            "3\n",
            "Qual produto deseja adicionar?\n",
            "banana\n",
            "Produto 'banana' adicionado com sucesso!\n",
            "O que deseja fazer? Digite o número:\n",
            "1. Ver os produtos em estoque\n",
            "2. Alterar um produto\n",
            "3. Adicionar um produto\n",
            "4. Fechar o sistema\n",
            "1\n",
            "Produtos em estoque: \n",
            "0 - leite\n",
            "1 - pão\n",
            "2 - ovo\n",
            "3 - queijo\n",
            "4 - banana\n",
            "O que deseja fazer? Digite o número:\n",
            "1. Ver os produtos em estoque\n",
            "2. Alterar um produto\n",
            "3. Adicionar um produto\n",
            "4. Fechar o sistema\n",
            "4\n",
            "Fechando o sistema...\n"
          ]
        }
      ]
    }
  ]
}