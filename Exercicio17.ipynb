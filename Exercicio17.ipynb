{
  "nbformat": 4,
  "nbformat_minor": 0,
  "metadata": {
    "colab": {
      "provenance": [],
      "include_colab_link": true
    },
    "kernelspec": {
      "name": "python3",
      "display_name": "Python 3"
    },
    "language_info": {
      "name": "python"
    }
  },
  "cells": [
    {
      "cell_type": "markdown",
      "metadata": {
        "id": "view-in-github",
        "colab_type": "text"
      },
      "source": [
        "<a href=\"https://colab.research.google.com/github/thamirislimadc/talentocloudpro/blob/main/Exercicio17.ipynb\" target=\"_parent\"><img src=\"https://colab.research.google.com/assets/colab-badge.svg\" alt=\"Open In Colab\"/></a>"
      ]
    },
    {
      "cell_type": "markdown",
      "source": [],
      "metadata": {
        "id": "iJNec0TX-9R9"
      }
    },
    {
      "cell_type": "code",
      "execution_count": null,
      "metadata": {
        "id": "7m59yOlsLp6K",
        "colab": {
          "base_uri": "https://localhost:8080/"
        },
        "outputId": "8f1ea5ab-08c5-491d-8fd5-e05cd337b2d6"
      },
      "outputs": [
        {
          "output_type": "stream",
          "name": "stdout",
          "text": [
            "['maçã', 'banana', 'pera']\n",
            "['melancia', 'banana', 'pera']\n"
          ]
        }
      ],
      "source": [
        "lista_frutas = ['maçã', 'banana', 'pera']\n",
        "print(lista_frutas)\n",
        "# Imprimirá: ['maçã', 'banana', 'pera']\n",
        "\n",
        "lista_frutas[0] = 'melancia'\n",
        "print(lista_frutas)\n",
        "# Imprimirá: ['melancia', 'banana', 'pera']"
      ]
    },
    {
      "cell_type": "code",
      "source": [
        "lista_frutas = ['melancia', 'banana', 'pera']\n",
        "print(lista_frutas)\n",
        "# Imprimirá: ['melancia', 'banana', 'pera']\n",
        "\n",
        "lista_frutas[1], lista_frutas[2] = 'morango', 'abacaxi'\n",
        "print(lista_frutas)\n",
        "# Imprimirá: ['melancia', 'morango', 'abacaxi']"
      ],
      "metadata": {
        "colab": {
          "base_uri": "https://localhost:8080/"
        },
        "id": "Ri85mMJUKMZN",
        "outputId": "52631968-c765-4fb9-99de-9462c09f5ce5"
      },
      "execution_count": null,
      "outputs": [
        {
          "output_type": "stream",
          "name": "stdout",
          "text": [
            "['melancia', 'banana', 'pera']\n",
            "['melancia', 'morango', 'abacaxi']\n"
          ]
        }
      ]
    },
    {
      "cell_type": "code",
      "source": [
        "lista_frutas = ['melancia', 'morango', 'abacaxi']\n",
        "print(lista_frutas)\n",
        "# Imprimirá: ['melancia', 'morango', 'abacaxi']\n",
        "\n",
        "lista_frutas[1] = lista_frutas[0]\n",
        "print(lista_frutas)\n",
        "# Imprimirá: ['melancia', 'melancia', 'abacaxi']"
      ],
      "metadata": {
        "colab": {
          "base_uri": "https://localhost:8080/"
        },
        "id": "57JCYMMrKXBt",
        "outputId": "b18cadcc-e225-47dd-cfd8-01dfe2538e81"
      },
      "execution_count": null,
      "outputs": [
        {
          "output_type": "stream",
          "name": "stdout",
          "text": [
            "['melancia', 'morango', 'abacaxi']\n",
            "['melancia', 'melancia', 'abacaxi']\n"
          ]
        }
      ]
    },
    {
      "cell_type": "markdown",
      "source": [
        "Agora vamos aprender a usar duas funções nativas de Python para adicionar e remover itens de um array. A primeira delas é a função append(), que em inglês significa “anexar” ou “acrescentar”. Para usá-la basta escrever o nome do array ao qual queremos adicionar um item, seguido de um ponto ‘.’, o nome da função, e o item a ser adicionado dentro dos parênteses:"
      ],
      "metadata": {
        "id": "lydHmRwJK05O"
      }
    },
    {
      "cell_type": "code",
      "source": [
        "lista_frutas = ['melancia', 'morango', 'abacaxi']\n",
        "print(lista_frutas)\n",
        "# Imprimirá: ['melancia', 'morango', 'abacaxi']\n",
        "\n",
        "lista_frutas.append('kiwi')\n",
        "print(lista_frutas)\n",
        "# Imprimirá: ['melancia', 'morango', 'abacaxi', 'kiwi']"
      ],
      "metadata": {
        "colab": {
          "base_uri": "https://localhost:8080/"
        },
        "id": "Ds5MFM6eK190",
        "outputId": "f804e8eb-3e67-4834-ad6c-402ee01c7ea6"
      },
      "execution_count": null,
      "outputs": [
        {
          "output_type": "stream",
          "name": "stdout",
          "text": [
            "['melancia', 'morango', 'abacaxi']\n",
            "['melancia', 'morango', 'abacaxi', 'kiwi']\n"
          ]
        }
      ]
    },
    {
      "cell_type": "markdown",
      "source": [
        "E se quisermos remover o elemento que acabamos de adicionar? A função pop() vem para nos ajudar a resolver esse problema. Usamos ele da mesma forma que a função append(), porém, não precisamos passar nenhum argumento dentro dos parênteses. Assim, ele entenderá que o item a ser removido do array é o último."
      ],
      "metadata": {
        "id": "-mH-g1ZWLJxT"
      }
    },
    {
      "cell_type": "code",
      "source": [
        "lista_frutas = ['melancia', 'morango', 'abacaxi', 'kiwi']\n",
        "print(lista_frutas)\n",
        "# Imprimirá: ['melancia', 'morango', 'abacaxi', 'kiwi']\n",
        "\n",
        "lista_frutas.pop()\n",
        "print(lista_frutas)\n",
        "# Imprimirá: ['melancia', 'morango', 'abacaxi']"
      ],
      "metadata": {
        "colab": {
          "base_uri": "https://localhost:8080/"
        },
        "id": "Y9Uz6FNsLKf_",
        "outputId": "b4aa9fa3-4ca0-4706-c0b7-b07528bc3ead"
      },
      "execution_count": null,
      "outputs": [
        {
          "output_type": "stream",
          "name": "stdout",
          "text": [
            "['melancia', 'morango', 'abacaxi', 'kiwi']\n",
            "['melancia', 'morango', 'abacaxi']\n"
          ]
        }
      ]
    },
    {
      "cell_type": "markdown",
      "source": [
        "#Exercício 17\n",
        "\n",
        "A loja de cosméticos ficou muito feliz com seu trabalho e chamaram você novamente! Dessa vez, eles precisam que você atualize o array de produtos. Agora, eles estão vendendo rímel ao invés de batons, e cremes hidratantes no lugar de loções. Além disso, ficaram sem delineadores, então precisam que você remova ele da lista de produtos. Imprima a nova lista no terminal para verificar que as alterações foram realizadas corretamente.\n",
        "\n",
        "lista_produtos = ['máscaras faciais', 'batons', 'esmaltes', 'perfumes', 'loções', 'xampus', 'sabonetes', 'delineadores']\n",
        "\n",
        "Como desafio, adicione dois novos produtos da sua escolha à lista."
      ],
      "metadata": {
        "id": "o257l-FxQCnH"
      }
    },
    {
      "cell_type": "code",
      "source": [
        "listaProdutos = [\"máscaras faciais\", \"batons\", \"esmaltes\", \"perfumes\", \"loções\", \"xampus\", \"sabonetes\", \"delineadores\"]\n",
        "listaProdutos[1], listaProdutos[4] = \"rímel\", \"creme hidratante\"\n",
        "listaProdutos.pop()\n",
        "listaProdutos.append(\"lixa de unhas\")\n",
        "listaProdutos.append(\"escova de cabelo\")\n",
        "print(listaProdutos)"
      ],
      "metadata": {
        "colab": {
          "base_uri": "https://localhost:8080/"
        },
        "id": "GJHPqUAhacp-",
        "outputId": "41a1378b-bd7a-4fe4-dad5-bb94f069d569"
      },
      "execution_count": null,
      "outputs": [
        {
          "output_type": "stream",
          "name": "stdout",
          "text": [
            "['máscaras faciais', 'rímel', 'esmaltes', 'perfumes', 'creme hidratante', 'xampus', 'sabonetes', 'lixa de unhas', 'escova de cabelo']\n"
          ]
        }
      ]
    }
  ]
}