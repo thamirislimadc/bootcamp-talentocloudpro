{
  "nbformat": 4,
  "nbformat_minor": 0,
  "metadata": {
    "colab": {
      "provenance": [],
      "authorship_tag": "ABX9TyNfUq8lEeHWEUmwgbum6Bw9",
      "include_colab_link": true
    },
    "kernelspec": {
      "name": "python3",
      "display_name": "Python 3"
    },
    "language_info": {
      "name": "python"
    }
  },
  "cells": [
    {
      "cell_type": "markdown",
      "metadata": {
        "id": "view-in-github",
        "colab_type": "text"
      },
      "source": [
        "<a href=\"https://colab.research.google.com/github/thamirislimadc/talentocloudpro/blob/main/FuncaoCalculadora.ipynb\" target=\"_parent\"><img src=\"https://colab.research.google.com/assets/colab-badge.svg\" alt=\"Open In Colab\"/></a>"
      ]
    },
    {
      "cell_type": "markdown",
      "source": [
        "#Exercício 10 - Talendo Cloud\n",
        "\n",
        "Faça uma função calculadora de dois números com três parâmetros: os dois primeiros serão os números da operação e o terceiro será a entrada que definirá a operação a ser executada. Considera a seguinte definição:\n",
        "1. Soma\n",
        "2. Subtração\n",
        "3. Multiplicação\n",
        "4. Divisão\n",
        "\n",
        "Caso seja inserido um número de operação que não exista, o resultado deverá ser 0."
      ],
      "metadata": {
        "id": "AMGls15TXwLt"
      }
    },
    {
      "cell_type": "code",
      "execution_count": 21,
      "metadata": {
        "colab": {
          "base_uri": "https://localhost:8080/"
        },
        "id": "Q4mpEmkcXtEM",
        "outputId": "320ec7ca-665f-4359-8669-bd70eaa4513e"
      },
      "outputs": [
        {
          "output_type": "stream",
          "name": "stdout",
          "text": [
            "Digite o primeiro número: 232\n",
            "Digite o segundo número: 12\n",
            "Digite a operação (soma, subtracao, multiplicacao, divisao): divisao\n",
            "O resultado da operação é:  19.333333333333332\n"
          ]
        }
      ],
      "source": [
        "def calculadora(num1, num2, operacao):\n",
        "    if operacao == \"soma\":\n",
        "        return str(num1 + num2)\n",
        "    elif operacao == \"subtracao\":\n",
        "        return str(num1 - num2)\n",
        "    elif operacao == \"divisao\":\n",
        "       return str(num1 / num2)\n",
        "    elif operacao == \"multiplicacao\":\n",
        "        return str(num1 * num2)\n",
        "    else:\n",
        "        return 0\n",
        "\n",
        "# Entrada de dados dos usuários\n",
        "try:\n",
        "    num1 = int(input(\"Digite o primeiro número: \"))\n",
        "    num2 = int(input(\"Digite o segundo número: \"))\n",
        "    operacao = input(\"Digite a operação (soma, subtracao, multiplicacao, divisao): \")\n",
        "    resultado = calculadora(num1, num2, operacao)\n",
        "    print(\"O resultado da operação é: \", resultado)\n",
        "except:\n",
        "    print(\"Erro: digite um número válido\")"
      ]
    }
  ]
}