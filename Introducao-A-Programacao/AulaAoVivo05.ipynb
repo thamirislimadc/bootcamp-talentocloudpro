{
  "nbformat": 4,
  "nbformat_minor": 0,
  "metadata": {
    "colab": {
      "provenance": [],
      "authorship_tag": "ABX9TyO6hWjUMbFBGPPQADkWcIJL",
      "include_colab_link": true
    },
    "kernelspec": {
      "name": "python3",
      "display_name": "Python 3"
    },
    "language_info": {
      "name": "python"
    }
  },
  "cells": [
    {
      "cell_type": "markdown",
      "metadata": {
        "id": "view-in-github",
        "colab_type": "text"
      },
      "source": [
        "<a href=\"https://colab.research.google.com/github/thamirislimadc/talentocloudpro/blob/main/AulaAoVivo05.ipynb\" target=\"_parent\"><img src=\"https://colab.research.google.com/assets/colab-badge.svg\" alt=\"Open In Colab\"/></a>"
      ]
    },
    {
      "cell_type": "markdown",
      "source": [
        "# Desafio com \"for\""
      ],
      "metadata": {
        "id": "EZxbXFsEnsAd"
      }
    },
    {
      "cell_type": "code",
      "execution_count": 9,
      "metadata": {
        "colab": {
          "base_uri": "https://localhost:8080/"
        },
        "id": "N4Xol61FFSxS",
        "outputId": "58f7a6c2-ab79-494c-95a3-471fd3aee669"
      },
      "outputs": [
        {
          "output_type": "stream",
          "name": "stdout",
          "text": [
            "Regar a planta 0\n",
            "Regar a planta 1\n",
            "Regar a planta 2\n",
            "Regar a planta 3\n",
            "Regar a planta 4\n",
            "Regar a planta 5\n"
          ]
        }
      ],
      "source": [
        "for i in range(6):\n",
        "    plantaAtual = str(i)\n",
        "    print(\"Regar a planta \" + plantaAtual)\n",
        ""
      ]
    },
    {
      "cell_type": "markdown",
      "source": [
        "# Desafio com \"while\""
      ],
      "metadata": {
        "id": "bH8BAePFQeV8"
      }
    },
    {
      "cell_type": "code",
      "source": [
        "totalPlantas = 0\n",
        "while (totalPlantas < 6):\n",
        "  print (\"Regar a planta \", totalPlantas)\n",
        "  totalPlantas = totalPlantas + 1"
      ],
      "metadata": {
        "colab": {
          "base_uri": "https://localhost:8080/"
        },
        "id": "vbFK2A7yQnBY",
        "outputId": "070dfa3e-5371-4da9-e789-377a4cbdd504"
      },
      "execution_count": 19,
      "outputs": [
        {
          "output_type": "stream",
          "name": "stdout",
          "text": [
            "Regar a planta  0\n",
            "Regar a planta  1\n",
            "Regar a planta  2\n",
            "Regar a planta  3\n",
            "Regar a planta  4\n",
            "Regar a planta  5\n"
          ]
        }
      ]
    },
    {
      "cell_type": "markdown",
      "source": [
        "# Desafio tomates"
      ],
      "metadata": {
        "id": "Zcl3_79yZMJ-"
      }
    },
    {
      "cell_type": "code",
      "source": [
        "for tomate in range(0, 5, 2):\n",
        "  print(\"Regar o vaso \", tomate)"
      ],
      "metadata": {
        "colab": {
          "base_uri": "https://localhost:8080/"
        },
        "id": "jb0lJoHgZQkT",
        "outputId": "0557d91b-8c8b-435b-ee1b-56bbeb34060e"
      },
      "execution_count": 37,
      "outputs": [
        {
          "output_type": "stream",
          "name": "stdout",
          "text": [
            "Regar o vaso  0\n",
            "Regar o vaso  2\n",
            "Regar o vaso  4\n"
          ]
        }
      ]
    },
    {
      "cell_type": "markdown",
      "source": [
        "# Desafio batatas"
      ],
      "metadata": {
        "id": "Pra6xnUmgMFl"
      }
    },
    {
      "cell_type": "code",
      "source": [
        "for batata in range(3,6):\n",
        "  print(\"Regar as batatas no vaso \", batata)"
      ],
      "metadata": {
        "colab": {
          "base_uri": "https://localhost:8080/"
        },
        "id": "6-awOIEagO8H",
        "outputId": "0de625b0-99c0-4217-e6cb-529840ace72f"
      },
      "execution_count": 42,
      "outputs": [
        {
          "output_type": "stream",
          "name": "stdout",
          "text": [
            "Regar as batatas no vaso  3\n",
            "Regar as batatas no vaso  4\n",
            "Regar as batatas no vaso  5\n"
          ]
        }
      ]
    }
  ]
}