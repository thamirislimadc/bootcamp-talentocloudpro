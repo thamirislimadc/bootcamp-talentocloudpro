{
  "nbformat": 4,
  "nbformat_minor": 0,
  "metadata": {
    "colab": {
      "provenance": [],
      "authorship_tag": "ABX9TyOyd9d2jZ1R4DeFrv6bFDba",
      "include_colab_link": true
    },
    "kernelspec": {
      "name": "python3",
      "display_name": "Python 3"
    },
    "language_info": {
      "name": "python"
    }
  },
  "cells": [
    {
      "cell_type": "markdown",
      "metadata": {
        "id": "view-in-github",
        "colab_type": "text"
      },
      "source": [
        "<a href=\"https://colab.research.google.com/github/thamirislimadc/talentocloudpro/blob/main/Exercicio11.ipynb\" target=\"_parent\"><img src=\"https://colab.research.google.com/assets/colab-badge.svg\" alt=\"Open In Colab\"/></a>"
      ]
    },
    {
      "cell_type": "markdown",
      "source": [
        "# Exercício 11\n",
        "\n",
        "Faça uma função calculadora que os números e as operações serão feitas pelo usuário. O código deve ficar rodando infinitamente até que o usuário escolha a opção de sair. No início, o programa mostrará a seguinte lista de operações:\n",
        "\n",
        "1: Soma <br>\n",
        "2: Subtração <br>\n",
        "3: Multiplicação <br>\n",
        "4: Divisão <br>\n",
        "0: Sair <br>\n",
        "\n",
        "Digite o número para a operação correspondente e caso o usuário introduza qualquer outro, o sistema deve mostrar a mensagem “Essa opção não existe” e voltar ao menu de opções.\n",
        "\n",
        "Após a seleção, o sistema deve pedir para o usuário inserir o primeiro e segundo valor, um de cada. Depois precisa executar a operação e mostrar o resultado na tela. Quando o usuário escolher a opção “Sair”, o sistema irá parar.\n",
        "\n",
        "É necessário que o sistema mostre as opções sempre que finalizar uma operação e mostrar o resultado.\n"
      ],
      "metadata": {
        "id": "GHkFR8kaGfII"
      }
    },
    {
      "cell_type": "code",
      "execution_count": 22,
      "metadata": {
        "colab": {
          "base_uri": "https://localhost:8080/"
        },
        "id": "f167t3w9GVP_",
        "outputId": "e651ff88-31f1-45da-a0ca-b14dfe142c7a"
      },
      "outputs": [
        {
          "output_type": "stream",
          "name": "stdout",
          "text": [
            "Digite o primeiro número: 4\n",
            "Digite o segundo número: 2\n",
            "Digite o número correspondente a operação ( 1 = soma, 2 = subtracao, 3 = multiplicacao, 4 = divisao e 0 = sair): 3\n",
            "O resultado da operação é:  8\n"
          ]
        }
      ],
      "source": [
        "def calculadora(num1, num2, operacao):\n",
        "    if operacao == \"1\":\n",
        "      return str(num1 + num2)\n",
        "    elif operacao == \"2\":\n",
        "      return str(num1 - num2)\n",
        "    elif operacao == \"3\":\n",
        "      return str(num1 * num2)\n",
        "    elif operacao == \"4\":\n",
        "      return str(num1 / num2)\n",
        "    elif operacao == \"0\":\n",
        "      return str( print(\"Fim da operação!\"))\n",
        "    else:\n",
        "        return 0\n",
        "\n",
        "# Entrada de dados dos usuários\n",
        "try:\n",
        "    num1 = int(input(\"Digite o primeiro número: \"))\n",
        "    num2 = int(input(\"Digite o segundo número: \"))\n",
        "    operacao = input(\"Digite o número correspondente a operação ( 1 = soma, 2 = subtracao, 3 = multiplicacao, 4 = divisao e 0 = sair): \")\n",
        "    resultado = calculadora(num1, num2, operacao)\n",
        "    print(\"O resultado da operação é: \", resultado)\n",
        "except:\n",
        "    print(\"Erro: digite um número válido\")"
      ]
    }
  ]
}