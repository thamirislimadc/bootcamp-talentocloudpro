{
  "nbformat": 4,
  "nbformat_minor": 0,
  "metadata": {
    "colab": {
      "provenance": [],
      "authorship_tag": "ABX9TyPHx5cFsexYnH5kWNTmWNN2",
      "include_colab_link": true
    },
    "kernelspec": {
      "name": "python3",
      "display_name": "Python 3"
    },
    "language_info": {
      "name": "python"
    }
  },
  "cells": [
    {
      "cell_type": "markdown",
      "metadata": {
        "id": "view-in-github",
        "colab_type": "text"
      },
      "source": [
        "<a href=\"https://colab.research.google.com/github/thamirislimadc/talentocloudpro/blob/main/Exercicio12.ipynb\" target=\"_parent\"><img src=\"https://colab.research.google.com/assets/colab-badge.svg\" alt=\"Open In Colab\"/></a>"
      ]
    },
    {
      "cell_type": "markdown",
      "source": [
        "# Exercício 12 - Talento Cloud Pro\n",
        "\n",
        "Desenvolva um programa que recebe do usuário nome completo e ano de nascimento que seja entre 1922 e 2021.\n",
        "A partir dessas informações, o sistema mostrará o nome do usuário e a idade que completou, ou completará, no ano atual (2022).\n",
        "\n",
        "Caso o usuário não digite um número ou apareça um inválido no campo do ano, o sistema informará o erro e continuará perguntando até que um valor correto seja preenchido.\n",
        "\n",
        "*Exercício atualizado para o ano 2024."
      ],
      "metadata": {
        "id": "OR4K5kc1I_4m"
      }
    },
    {
      "cell_type": "code",
      "execution_count": 30,
      "metadata": {
        "colab": {
          "base_uri": "https://localhost:8080/"
        },
        "id": "ato76_j-I-iN",
        "outputId": "c3cff85c-3772-4765-9c9d-8d3780dd11c5"
      },
      "outputs": [
        {
          "output_type": "stream",
          "name": "stdout",
          "text": [
            "Olá, queremos saber mais sobre você!\n",
            "Digite seu nome completo:\n",
            "Thamiris Lima\n",
            "Digite o ano do seu nascimento:\n",
            "1993\n",
            "Seu nome completo é Thamiris Lima  e você tem 31  anos.\n"
          ]
        }
      ],
      "source": [
        "print(\"Olá, queremos saber mais sobre você!\")\n",
        "try:\n",
        "  print(\"Digite seu nome completo:\")\n",
        "  nomeCompleto = (input())\n",
        "  print(\"Digite o ano do seu nascimento:\")\n",
        "  anoNascimento = int(input())\n",
        "\n",
        "  if (anoNascimento < 1922) or (anoNascimento > 2023):\n",
        "    raise Exception(\"Erro: o ano de nascimento deve ser entre 1922 e 2023!\")\n",
        "\n",
        "  idade = 2024 - anoNascimento\n",
        "  print(\"Seu nome completo é\", nomeCompleto, \" e você tem\", idade, \" anos.\")\n",
        "\n",
        "except Exception as e:\n",
        "  print(e)"
      ]
    }
  ]
}