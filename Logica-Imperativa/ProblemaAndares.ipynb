{
  "nbformat": 4,
  "nbformat_minor": 0,
  "metadata": {
    "colab": {
      "provenance": [],
      "authorship_tag": "ABX9TyPCDFtJn9+TKI2AvOKBUFSf",
      "include_colab_link": true
    },
    "kernelspec": {
      "name": "python3",
      "display_name": "Python 3"
    },
    "language_info": {
      "name": "python"
    }
  },
  "cells": [
    {
      "cell_type": "markdown",
      "metadata": {
        "id": "view-in-github",
        "colab_type": "text"
      },
      "source": [
        "<a href=\"https://colab.research.google.com/github/thamirislimadc/talentocloudpro/blob/main/ProblemaAndares.ipynb\" target=\"_parent\"><img src=\"https://colab.research.google.com/assets/colab-badge.svg\" alt=\"Open In Colab\"/></a>"
      ]
    },
    {
      "cell_type": "markdown",
      "source": [
        "# **Exercício 9 - Talendo Cloud**\n",
        "\n",
        "Precisamos imprimir um número para cada andar de um hotel de 20 andares. Porém, o dono do hotel é supersticioso e optou por não ter um 13ro andar.\n",
        "Escreva um código que imprima todos os números exceto o número 13.\n",
        "Escreva mais um código que resolva o mesmo problema, mas dessa vez usando o laço de repetição 'while'.\n",
        "Como desafio, imprima eles em ordem decrescente (20, 19, 18...)"
      ],
      "metadata": {
        "id": "80EBeeXuqKpq"
      }
    },
    {
      "cell_type": "code",
      "execution_count": 36,
      "metadata": {
        "colab": {
          "base_uri": "https://localhost:8080/"
        },
        "id": "rx0WaotMXz-G",
        "outputId": "1ea67d04-4813-42b1-ce9e-cb6f4d0eb1fe"
      },
      "outputs": [
        {
          "output_type": "stream",
          "name": "stdout",
          "text": [
            "1\n",
            "2\n",
            "3\n",
            "4\n",
            "5\n",
            "6\n",
            "7\n",
            "8\n",
            "9\n",
            "10\n",
            "11\n",
            "12\n",
            "14\n",
            "15\n",
            "16\n",
            "17\n",
            "18\n",
            "19\n",
            "20\n"
          ]
        }
      ],
      "source": [
        "# Problema 1\n",
        "for totalAndares in range(1, 21):\n",
        "    if (totalAndares == 13):\n",
        "      continue\n",
        "    print(totalAndares)"
      ]
    },
    {
      "cell_type": "code",
      "source": [
        "# Problema 2\n",
        "totalAndares = 20\n",
        "pularAndar = 13\n",
        "\n",
        "while (totalAndares > 0):\n",
        "  if totalAndares == pularAndar:\n",
        "    totalAndares = totalAndares - 1\n",
        "    continue\n",
        "  print(totalAndares)\n",
        "  totalAndares = totalAndares - 1"
      ],
      "metadata": {
        "colab": {
          "base_uri": "https://localhost:8080/"
        },
        "id": "PUZDP4feqfJs",
        "outputId": "039a14c6-cc9d-451a-ff59-071a381fc030"
      },
      "execution_count": 37,
      "outputs": [
        {
          "output_type": "stream",
          "name": "stdout",
          "text": [
            "20\n",
            "19\n",
            "18\n",
            "17\n",
            "16\n",
            "15\n",
            "14\n",
            "12\n",
            "11\n",
            "10\n",
            "9\n",
            "8\n",
            "7\n",
            "6\n",
            "5\n",
            "4\n",
            "3\n",
            "2\n",
            "1\n"
          ]
        }
      ]
    }
  ]
}